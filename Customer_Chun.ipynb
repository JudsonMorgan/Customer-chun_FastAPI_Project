{
 "cells": [
  {
   "cell_type": "code",
   "execution_count": 1,
   "metadata": {
    "executionInfo": {
     "elapsed": 1729,
     "status": "ok",
     "timestamp": 1655217501252,
     "user": {
      "displayName": "JUDE EZEH",
      "userId": "03936799648699512780"
     },
     "user_tz": -60
    },
    "id": "C-MwhfkrpWkA"
   },
   "outputs": [],
   "source": [
    "import numpy as np\n",
    "import pandas as pd\n",
    "import matplotlib.pyplot as plt\n",
    "import seaborn as sns\n",
    "\n",
    "from sklearn.preprocessing import LabelEncoder\n",
    "from sklearn.preprocessing import OneHotEncoder\n",
    "from sklearn.preprocessing import StandardScaler\n",
    "from sklearn.model_selection import train_test_split\n",
    "from sklearn.compose import ColumnTransformer\n",
    "import warnings\n",
    "warnings.filterwarnings('ignore')\n",
    "%matplotlib inline\n",
    "sns.set()"
   ]
  },
  {
   "cell_type": "code",
   "execution_count": 1,
   "metadata": {
    "colab": {
     "base_uri": "https://localhost:8080/"
    },
    "executionInfo": {
     "elapsed": 44502,
     "status": "ok",
     "timestamp": 1655217494708,
     "user": {
      "displayName": "JUDE EZEH",
      "userId": "03936799648699512780"
     },
     "user_tz": -60
    },
    "id": "PMERK4-ypbTf",
    "outputId": "7a099de6-1ee6-4a89-eb36-176123bf91a5"
   },
   "outputs": [
    {
     "name": "stdout",
     "output_type": "stream",
     "text": [
      "Mounted at /content/drive\n"
     ]
    }
   ],
   "source": [
    "from google.colab import drive\n",
    "drive.mount('/content/drive')"
   ]
  },
  {
   "cell_type": "code",
   "execution_count": 2,
   "metadata": {
    "colab": {
     "base_uri": "https://localhost:8080/",
     "height": 270
    },
    "executionInfo": {
     "elapsed": 1242,
     "status": "ok",
     "timestamp": 1655218483892,
     "user": {
      "displayName": "JUDE EZEH",
      "userId": "03936799648699512780"
     },
     "user_tz": -60
    },
    "id": "MZlIktoNpWkI",
    "outputId": "78cff793-e1b9-4a29-83b1-ec483a6cdc02"
   },
   "outputs": [
    {
     "data": {
      "text/html": [
       "<div>\n",
       "<style scoped>\n",
       "    .dataframe tbody tr th:only-of-type {\n",
       "        vertical-align: middle;\n",
       "    }\n",
       "\n",
       "    .dataframe tbody tr th {\n",
       "        vertical-align: top;\n",
       "    }\n",
       "\n",
       "    .dataframe thead th {\n",
       "        text-align: right;\n",
       "    }\n",
       "</style>\n",
       "<table border=\"1\" class=\"dataframe\">\n",
       "  <thead>\n",
       "    <tr style=\"text-align: right;\">\n",
       "      <th></th>\n",
       "      <th>RowNumber</th>\n",
       "      <th>CustomerId</th>\n",
       "      <th>Surname</th>\n",
       "      <th>CreditScore</th>\n",
       "      <th>Geography</th>\n",
       "      <th>Gender</th>\n",
       "      <th>Age</th>\n",
       "      <th>Tenure</th>\n",
       "      <th>Balance</th>\n",
       "      <th>NumOfProducts</th>\n",
       "      <th>HasCrCard</th>\n",
       "      <th>IsActiveMember</th>\n",
       "      <th>EstimatedSalary</th>\n",
       "      <th>Exited</th>\n",
       "    </tr>\n",
       "  </thead>\n",
       "  <tbody>\n",
       "    <tr>\n",
       "      <th>0</th>\n",
       "      <td>1</td>\n",
       "      <td>15634602</td>\n",
       "      <td>Hargrave</td>\n",
       "      <td>619</td>\n",
       "      <td>France</td>\n",
       "      <td>Female</td>\n",
       "      <td>42</td>\n",
       "      <td>2</td>\n",
       "      <td>0.00</td>\n",
       "      <td>1</td>\n",
       "      <td>1</td>\n",
       "      <td>1</td>\n",
       "      <td>101348.88</td>\n",
       "      <td>1</td>\n",
       "    </tr>\n",
       "    <tr>\n",
       "      <th>1</th>\n",
       "      <td>2</td>\n",
       "      <td>15647311</td>\n",
       "      <td>Hill</td>\n",
       "      <td>608</td>\n",
       "      <td>Spain</td>\n",
       "      <td>Female</td>\n",
       "      <td>41</td>\n",
       "      <td>1</td>\n",
       "      <td>83807.86</td>\n",
       "      <td>1</td>\n",
       "      <td>0</td>\n",
       "      <td>1</td>\n",
       "      <td>112542.58</td>\n",
       "      <td>0</td>\n",
       "    </tr>\n",
       "    <tr>\n",
       "      <th>2</th>\n",
       "      <td>3</td>\n",
       "      <td>15619304</td>\n",
       "      <td>Onio</td>\n",
       "      <td>502</td>\n",
       "      <td>France</td>\n",
       "      <td>Female</td>\n",
       "      <td>42</td>\n",
       "      <td>8</td>\n",
       "      <td>159660.80</td>\n",
       "      <td>3</td>\n",
       "      <td>1</td>\n",
       "      <td>0</td>\n",
       "      <td>113931.57</td>\n",
       "      <td>1</td>\n",
       "    </tr>\n",
       "    <tr>\n",
       "      <th>3</th>\n",
       "      <td>4</td>\n",
       "      <td>15701354</td>\n",
       "      <td>Boni</td>\n",
       "      <td>699</td>\n",
       "      <td>France</td>\n",
       "      <td>Female</td>\n",
       "      <td>39</td>\n",
       "      <td>1</td>\n",
       "      <td>0.00</td>\n",
       "      <td>2</td>\n",
       "      <td>0</td>\n",
       "      <td>0</td>\n",
       "      <td>93826.63</td>\n",
       "      <td>0</td>\n",
       "    </tr>\n",
       "    <tr>\n",
       "      <th>4</th>\n",
       "      <td>5</td>\n",
       "      <td>15737888</td>\n",
       "      <td>Mitchell</td>\n",
       "      <td>850</td>\n",
       "      <td>Spain</td>\n",
       "      <td>Female</td>\n",
       "      <td>43</td>\n",
       "      <td>2</td>\n",
       "      <td>125510.82</td>\n",
       "      <td>1</td>\n",
       "      <td>1</td>\n",
       "      <td>1</td>\n",
       "      <td>79084.10</td>\n",
       "      <td>0</td>\n",
       "    </tr>\n",
       "  </tbody>\n",
       "</table>\n",
       "</div>"
      ],
      "text/plain": [
       "   RowNumber  CustomerId   Surname  CreditScore Geography  Gender  Age  \\\n",
       "0          1    15634602  Hargrave          619    France  Female   42   \n",
       "1          2    15647311      Hill          608     Spain  Female   41   \n",
       "2          3    15619304      Onio          502    France  Female   42   \n",
       "3          4    15701354      Boni          699    France  Female   39   \n",
       "4          5    15737888  Mitchell          850     Spain  Female   43   \n",
       "\n",
       "   Tenure    Balance  NumOfProducts  HasCrCard  IsActiveMember  \\\n",
       "0       2       0.00              1          1               1   \n",
       "1       1   83807.86              1          0               1   \n",
       "2       8  159660.80              3          1               0   \n",
       "3       1       0.00              2          0               0   \n",
       "4       2  125510.82              1          1               1   \n",
       "\n",
       "   EstimatedSalary  Exited  \n",
       "0        101348.88       1  \n",
       "1        112542.58       0  \n",
       "2        113931.57       1  \n",
       "3         93826.63       0  \n",
       "4         79084.10       0  "
      ]
     },
     "execution_count": 2,
     "metadata": {},
     "output_type": "execute_result"
    }
   ],
   "source": [
    "chun_df = pd.read_csv('data/Churn_Predictions.csv')\n",
    "chun_df.head()"
   ]
  },
  {
   "cell_type": "code",
   "execution_count": 50,
   "metadata": {
    "colab": {
     "base_uri": "https://localhost:8080/"
    },
    "executionInfo": {
     "elapsed": 542,
     "status": "ok",
     "timestamp": 1655218516930,
     "user": {
      "displayName": "JUDE EZEH",
      "userId": "03936799648699512780"
     },
     "user_tz": -60
    },
    "id": "7bLyo-GjpWkK",
    "outputId": "371c418d-421a-4e7b-b0e8-564bc598791e"
   },
   "outputs": [
    {
     "data": {
      "text/plain": [
       "(10000, 14)"
      ]
     },
     "execution_count": 50,
     "metadata": {},
     "output_type": "execute_result"
    }
   ],
   "source": [
    "chun_df.shape"
   ]
  },
  {
   "cell_type": "code",
   "execution_count": 51,
   "metadata": {
    "colab": {
     "base_uri": "https://localhost:8080/"
    },
    "executionInfo": {
     "elapsed": 501,
     "status": "ok",
     "timestamp": 1655218526911,
     "user": {
      "displayName": "JUDE EZEH",
      "userId": "03936799648699512780"
     },
     "user_tz": -60
    },
    "id": "zla0SrAYpWkM",
    "outputId": "2300b012-617d-4cff-a08d-af16c4148e61"
   },
   "outputs": [
    {
     "name": "stdout",
     "output_type": "stream",
     "text": [
      "<class 'pandas.core.frame.DataFrame'>\n",
      "RangeIndex: 10000 entries, 0 to 9999\n",
      "Data columns (total 14 columns):\n",
      " #   Column           Non-Null Count  Dtype  \n",
      "---  ------           --------------  -----  \n",
      " 0   RowNumber        10000 non-null  int64  \n",
      " 1   CustomerId       10000 non-null  int64  \n",
      " 2   Surname          10000 non-null  object \n",
      " 3   CreditScore      10000 non-null  int64  \n",
      " 4   Geography        10000 non-null  object \n",
      " 5   Gender           10000 non-null  object \n",
      " 6   Age              10000 non-null  int64  \n",
      " 7   Tenure           10000 non-null  int64  \n",
      " 8   Balance          10000 non-null  float64\n",
      " 9   NumOfProducts    10000 non-null  int64  \n",
      " 10  HasCrCard        10000 non-null  int64  \n",
      " 11  IsActiveMember   10000 non-null  int64  \n",
      " 12  EstimatedSalary  10000 non-null  float64\n",
      " 13  Exited           10000 non-null  int64  \n",
      "dtypes: float64(2), int64(9), object(3)\n",
      "memory usage: 1.1+ MB\n"
     ]
    }
   ],
   "source": [
    "chun_df.info()"
   ]
  },
  {
   "cell_type": "code",
   "execution_count": 52,
   "metadata": {
    "colab": {
     "base_uri": "https://localhost:8080/"
    },
    "executionInfo": {
     "elapsed": 524,
     "status": "ok",
     "timestamp": 1655218605324,
     "user": {
      "displayName": "JUDE EZEH",
      "userId": "03936799648699512780"
     },
     "user_tz": -60
    },
    "id": "eYZ9B-E7pWkN",
    "outputId": "95ad3c76-b89b-4aa4-e1b3-b35c4db05e8c"
   },
   "outputs": [
    {
     "data": {
      "text/plain": [
       "array([1, 0])"
      ]
     },
     "execution_count": 52,
     "metadata": {},
     "output_type": "execute_result"
    }
   ],
   "source": [
    "chun_df['Exited'].unique()"
   ]
  },
  {
   "cell_type": "code",
   "execution_count": 53,
   "metadata": {
    "colab": {
     "base_uri": "https://localhost:8080/"
    },
    "executionInfo": {
     "elapsed": 8,
     "status": "ok",
     "timestamp": 1655218607549,
     "user": {
      "displayName": "JUDE EZEH",
      "userId": "03936799648699512780"
     },
     "user_tz": -60
    },
    "id": "aiPSgCK9pWkO",
    "outputId": "d79b8dab-287e-47dd-a488-92572ff76b81"
   },
   "outputs": [
    {
     "data": {
      "text/plain": [
       "0    7963\n",
       "1    2037\n",
       "Name: Exited, dtype: int64"
      ]
     },
     "execution_count": 53,
     "metadata": {},
     "output_type": "execute_result"
    }
   ],
   "source": [
    "chun_df['Exited'].value_counts()"
   ]
  },
  {
   "cell_type": "code",
   "execution_count": 54,
   "metadata": {
    "colab": {
     "base_uri": "https://localhost:8080/",
     "height": 333
    },
    "executionInfo": {
     "elapsed": 51,
     "status": "ok",
     "timestamp": 1655218611104,
     "user": {
      "displayName": "JUDE EZEH",
      "userId": "03936799648699512780"
     },
     "user_tz": -60
    },
    "id": "GQqR__cbpWkO",
    "outputId": "22720b51-8a2f-4ef1-d48c-91119b4956c2"
   },
   "outputs": [
    {
     "data": {
      "text/plain": [
       "<matplotlib.axes._subplots.AxesSubplot at 0x7fe6fe5eeb10>"
      ]
     },
     "execution_count": 54,
     "metadata": {},
     "output_type": "execute_result"
    },
    {
     "data": {
      "image/png": "[encoded data removed]",
      "text/plain": [
       "<Figure size 432x288 with 1 Axes>"
      ]
     },
     "metadata": {},
     "output_type": "display_data"
    }
   ],
   "source": [
    "pd.crosstab(chun_df['Gender'], chun_df['Exited']).plot(kind='bar')"
   ]
  },
  {
   "cell_type": "code",
   "execution_count": 55,
   "metadata": {
    "colab": {
     "base_uri": "https://localhost:8080/"
    },
    "executionInfo": {
     "elapsed": 4,
     "status": "ok",
     "timestamp": 1655218613465,
     "user": {
      "displayName": "JUDE EZEH",
      "userId": "03936799648699512780"
     },
     "user_tz": -60
    },
    "id": "GRx1LhxwpWkQ",
    "outputId": "00161cb7-a329-4635-b42d-a6e0f2fb9b44"
   },
   "outputs": [
    {
     "data": {
      "text/plain": [
       "810"
      ]
     },
     "execution_count": 55,
     "metadata": {},
     "output_type": "execute_result"
    }
   ],
   "source": [
    "chun_df[(chun_df['Geography'] =='France') &(chun_df['Exited'])].shape[0]"
   ]
  },
  {
   "cell_type": "code",
   "execution_count": 56,
   "metadata": {
    "colab": {
     "base_uri": "https://localhost:8080/"
    },
    "executionInfo": {
     "elapsed": 7,
     "status": "ok",
     "timestamp": 1655218615437,
     "user": {
      "displayName": "JUDE EZEH",
      "userId": "03936799648699512780"
     },
     "user_tz": -60
    },
    "id": "Uqu45c9OpWkR",
    "outputId": "f3e2db36-8de9-4564-df6f-102d68bdb3fd"
   },
   "outputs": [
    {
     "data": {
      "text/plain": [
       "5014"
      ]
     },
     "execution_count": 56,
     "metadata": {},
     "output_type": "execute_result"
    }
   ],
   "source": [
    "chun_df[chun_df['Geography'] == 'France'].shape[0]"
   ]
  },
  {
   "cell_type": "code",
   "execution_count": 57,
   "metadata": {
    "colab": {
     "base_uri": "https://localhost:8080/"
    },
    "executionInfo": {
     "elapsed": 9,
     "status": "ok",
     "timestamp": 1655218617697,
     "user": {
      "displayName": "JUDE EZEH",
      "userId": "03936799648699512780"
     },
     "user_tz": -60
    },
    "id": "cqHsmOJ-pWkS",
    "outputId": "98a7dd0f-d2b5-4b43-97fe-da0f910b542b"
   },
   "outputs": [
    {
     "data": {
      "text/plain": [
       "France     5014\n",
       "Germany    2509\n",
       "Spain      2477\n",
       "Name: Geography, dtype: int64"
      ]
     },
     "execution_count": 57,
     "metadata": {},
     "output_type": "execute_result"
    }
   ],
   "source": [
    "chun_df['Geography'].value_counts()"
   ]
  },
  {
   "cell_type": "code",
   "execution_count": 58,
   "metadata": {
    "colab": {
     "base_uri": "https://localhost:8080/",
     "height": 275
    },
    "executionInfo": {
     "elapsed": 10,
     "status": "ok",
     "timestamp": 1655218620376,
     "user": {
      "displayName": "JUDE EZEH",
      "userId": "03936799648699512780"
     },
     "user_tz": -60
    },
    "id": "prwl2tYApWkU",
    "outputId": "d305ef23-77ea-4fd9-cf62-8a97886d4756"
   },
   "outputs": [
    {
     "data": {
      "image/png": "[encoded data removed]",
      "text/plain": [
       "<Figure size 432x288 with 1 Axes>"
      ]
     },
     "metadata": {},
     "output_type": "display_data"
    }
   ],
   "source": [
    "plt.pie(chun_df['Geography'].value_counts(),\n",
    "       autopct='%1.1f',\n",
    "       labels=['France', 'Germany', 'Spain'],\n",
    "       rotatelabels=True);"
   ]
  },
  {
   "cell_type": "code",
   "execution_count": 59,
   "metadata": {
    "colab": {
     "base_uri": "https://localhost:8080/",
     "height": 344
    },
    "executionInfo": {
     "elapsed": 28,
     "status": "ok",
     "timestamp": 1655218622349,
     "user": {
      "displayName": "JUDE EZEH",
      "userId": "03936799648699512780"
     },
     "user_tz": -60
    },
    "id": "xjtMaqUYpWkV",
    "outputId": "0067aacf-2211-48a7-94c0-2a63c19a50d1"
   },
   "outputs": [
    {
     "data": {
      "text/plain": [
       "<matplotlib.axes._subplots.AxesSubplot at 0x7fe6fe5426d0>"
      ]
     },
     "execution_count": 59,
     "metadata": {},
     "output_type": "execute_result"
    },
    {
     "data": {
      "image/png": "[encoded data removed]",
      "text/plain": [
       "<Figure size 432x288 with 1 Axes>"
      ]
     },
     "metadata": {},
     "output_type": "display_data"
    }
   ],
   "source": [
    "pd.crosstab(chun_df['Geography'], chun_df['Exited']).plot(kind='bar')"
   ]
  },
  {
   "cell_type": "code",
   "execution_count": 60,
   "metadata": {
    "colab": {
     "base_uri": "https://localhost:8080/"
    },
    "executionInfo": {
     "elapsed": 5,
     "status": "ok",
     "timestamp": 1655218624505,
     "user": {
      "displayName": "JUDE EZEH",
      "userId": "03936799648699512780"
     },
     "user_tz": -60
    },
    "id": "oaoRT2RQpWkW",
    "outputId": "ff924053-c9b5-4ed7-bd77-1e1434bf9788"
   },
   "outputs": [
    {
     "data": {
      "text/plain": [
       "Index(['RowNumber', 'CustomerId', 'Surname', 'CreditScore', 'Geography',\n",
       "       'Gender', 'Age', 'Tenure', 'Balance', 'NumOfProducts', 'HasCrCard',\n",
       "       'IsActiveMember', 'EstimatedSalary', 'Exited'],\n",
       "      dtype='object')"
      ]
     },
     "execution_count": 60,
     "metadata": {},
     "output_type": "execute_result"
    }
   ],
   "source": [
    "chun_df.columns"
   ]
  },
  {
   "cell_type": "code",
   "execution_count": 62,
   "metadata": {
    "colab": {
     "base_uri": "https://localhost:8080/"
    },
    "executionInfo": {
     "elapsed": 666,
     "status": "ok",
     "timestamp": 1655218656959,
     "user": {
      "displayName": "JUDE EZEH",
      "userId": "03936799648699512780"
     },
     "user_tz": -60
    },
    "id": "p-LsyvVtpWkX",
    "outputId": "321b2670-d9eb-4ae6-ad9f-50086d00c616"
   },
   "outputs": [
    {
     "data": {
      "text/plain": [
       "RowNumber          0\n",
       "CustomerId         0\n",
       "Surname            0\n",
       "CreditScore        0\n",
       "Geography          0\n",
       "Gender             0\n",
       "Age                0\n",
       "Tenure             0\n",
       "Balance            0\n",
       "NumOfProducts      0\n",
       "HasCrCard          0\n",
       "IsActiveMember     0\n",
       "EstimatedSalary    0\n",
       "Exited             0\n",
       "dtype: int64"
      ]
     },
     "execution_count": 62,
     "metadata": {},
     "output_type": "execute_result"
    }
   ],
   "source": [
    "chun_df.isna().sum()"
   ]
  },
  {
   "cell_type": "code",
   "execution_count": 3,
   "metadata": {
    "executionInfo": {
     "elapsed": 10,
     "status": "ok",
     "timestamp": 1655218859049,
     "user": {
      "displayName": "JUDE EZEH",
      "userId": "03936799648699512780"
     },
     "user_tz": -60
    },
    "id": "y6Cx5jvwuT9P"
   },
   "outputs": [],
   "source": [
    "X = chun_df.iloc[:, 3:-1].values\n",
    "y = chun_df.iloc[:, -1].values"
   ]
  },
  {
   "cell_type": "code",
   "execution_count": 65,
   "metadata": {
    "colab": {
     "base_uri": "https://localhost:8080/"
    },
    "executionInfo": {
     "elapsed": 464,
     "status": "ok",
     "timestamp": 1655218869935,
     "user": {
      "displayName": "JUDE EZEH",
      "userId": "03936799648699512780"
     },
     "user_tz": -60
    },
    "id": "wbkfabkKu3mV",
    "outputId": "8e19321c-be81-4ab2-8f27-1d9590b5c0b1"
   },
   "outputs": [
    {
     "name": "stdout",
     "output_type": "stream",
     "text": [
      "[[619 'France' 'Female' ... 1 1 101348.88]\n",
      " [608 'Spain' 'Female' ... 0 1 112542.58]\n",
      " [502 'France' 'Female' ... 1 0 113931.57]\n",
      " ...\n",
      " [709 'France' 'Female' ... 0 1 42085.58]\n",
      " [772 'Germany' 'Male' ... 1 0 92888.52]\n",
      " [792 'France' 'Female' ... 1 0 38190.78]]\n"
     ]
    }
   ],
   "source": [
    "print(X)"
   ]
  },
  {
   "cell_type": "code",
   "execution_count": 66,
   "metadata": {
    "colab": {
     "base_uri": "https://localhost:8080/"
    },
    "executionInfo": {
     "elapsed": 6,
     "status": "ok",
     "timestamp": 1655218885411,
     "user": {
      "displayName": "JUDE EZEH",
      "userId": "03936799648699512780"
     },
     "user_tz": -60
    },
    "id": "8zmG9vz5u8BR",
    "outputId": "13b421b4-3f1c-46cc-c8e1-c9a48b740da8"
   },
   "outputs": [
    {
     "name": "stdout",
     "output_type": "stream",
     "text": [
      "[1 0 1 ... 1 1 0]\n"
     ]
    }
   ],
   "source": [
    "print(y)"
   ]
  },
  {
   "cell_type": "markdown",
   "metadata": {
    "id": "3Lddc34AvPwv"
   },
   "source": [
    "### Encoding Categorical Variables"
   ]
  },
  {
   "cell_type": "code",
   "execution_count": 4,
   "metadata": {
    "colab": {
     "base_uri": "https://localhost:8080/"
    },
    "executionInfo": {
     "elapsed": 571,
     "status": "ok",
     "timestamp": 1655219274955,
     "user": {
      "displayName": "JUDE EZEH",
      "userId": "03936799648699512780"
     },
     "user_tz": -60
    },
    "id": "bJuMmUuawFSJ",
    "outputId": "38e70e5f-3622-4789-f2ad-95f024b63f69"
   },
   "outputs": [
    {
     "name": "stdout",
     "output_type": "stream",
     "text": [
      "[[619 'France' 0 ... 1 1 101348.88]\n",
      " [608 'Spain' 0 ... 0 1 112542.58]\n",
      " [502 'France' 0 ... 1 0 113931.57]\n",
      " ...\n",
      " [709 'France' 0 ... 0 1 42085.58]\n",
      " [772 'Germany' 1 ... 1 0 92888.52]\n",
      " [792 'France' 0 ... 1 0 38190.78]]\n"
     ]
    }
   ],
   "source": [
    "le = LabelEncoder()\n",
    "X[:, 2] = le.fit_transform(X[:, 2])\n",
    "print(X)"
   ]
  },
  {
   "cell_type": "markdown",
   "metadata": {
    "id": "xaXBGs7yw5RC"
   },
   "source": [
    "Using OneHotEncoder to transform the Geography features."
   ]
  },
  {
   "cell_type": "code",
   "execution_count": 5,
   "metadata": {
    "executionInfo": {
     "elapsed": 483,
     "status": "ok",
     "timestamp": 1655219668094,
     "user": {
      "displayName": "JUDE EZEH",
      "userId": "03936799648699512780"
     },
     "user_tz": -60
    },
    "id": "rTA1g7xMwen4"
   },
   "outputs": [],
   "source": [
    "ct = ColumnTransformer(transformers=[('encoder', OneHotEncoder(), [1])], remainder='passthrough')\n",
    "X = np.array(ct.fit_transform(X))"
   ]
  },
  {
   "cell_type": "code",
   "execution_count": 73,
   "metadata": {
    "colab": {
     "base_uri": "https://localhost:8080/"
    },
    "executionInfo": {
     "elapsed": 449,
     "status": "ok",
     "timestamp": 1655219698815,
     "user": {
      "displayName": "JUDE EZEH",
      "userId": "03936799648699512780"
     },
     "user_tz": -60
    },
    "id": "4cTuDaA0yCOt",
    "outputId": "0e5cdece-4b9d-472e-cda1-b0df54f8268f"
   },
   "outputs": [
    {
     "name": "stdout",
     "output_type": "stream",
     "text": [
      "[[1.0 0.0 0.0 ... 1 1 101348.88]\n",
      " [0.0 0.0 1.0 ... 0 1 112542.58]\n",
      " [1.0 0.0 0.0 ... 1 0 113931.57]\n",
      " ...\n",
      " [1.0 0.0 0.0 ... 0 1 42085.58]\n",
      " [0.0 1.0 0.0 ... 1 0 92888.52]\n",
      " [1.0 0.0 0.0 ... 1 0 38190.78]]\n"
     ]
    }
   ],
   "source": [
    "print(X)"
   ]
  },
  {
   "cell_type": "code",
   "execution_count": 6,
   "metadata": {
    "executionInfo": {
     "elapsed": 463,
     "status": "ok",
     "timestamp": 1655219718222,
     "user": {
      "displayName": "JUDE EZEH",
      "userId": "03936799648699512780"
     },
     "user_tz": -60
    },
    "id": "NC9VWrRupWko"
   },
   "outputs": [],
   "source": [
    "X_train, X_test, y_train, y_test = train_test_split(X,y, test_size=0.2, random_state=42)"
   ]
  },
  {
   "cell_type": "code",
   "execution_count": 7,
   "metadata": {
    "colab": {
     "base_uri": "https://localhost:8080/"
    },
    "executionInfo": {
     "elapsed": 492,
     "status": "ok",
     "timestamp": 1655219736368,
     "user": {
      "displayName": "JUDE EZEH",
      "userId": "03936799648699512780"
     },
     "user_tz": -60
    },
    "id": "aStu5lAepWko",
    "outputId": "441c5aa8-1cf7-4199-f05a-a9df15a78618"
   },
   "outputs": [
    {
     "data": {
      "text/plain": [
       "array([[ 1.00150113, -0.57946723, -0.57638802,  0.35649971,  0.91324755,\n",
       "        -0.6557859 ,  0.34567966, -1.21847056,  0.80843615,  0.64920267,\n",
       "         0.97481699,  1.36766974],\n",
       "       [-0.99850112,  1.72572313, -0.57638802, -0.20389777,  0.91324755,\n",
       "         0.29493847, -0.3483691 ,  0.69683765,  0.80843615,  0.64920267,\n",
       "         0.97481699,  1.6612541 ],\n",
       "       [-0.99850112, -0.57946723,  1.73494238, -0.96147213,  0.91324755,\n",
       "        -1.41636539, -0.69539349,  0.61862909, -0.91668767,  0.64920267,\n",
       "        -1.02583358, -0.25280688],\n",
       "       [ 1.00150113, -0.57946723, -0.57638802, -0.94071667, -1.09499335,\n",
       "        -1.13114808,  1.38675281,  0.95321202, -0.91668767,  0.64920267,\n",
       "        -1.02583358,  0.91539272],\n",
       "       [ 1.00150113, -0.57946723, -0.57638802, -1.39733684,  0.91324755,\n",
       "         1.62595257,  1.38675281,  1.05744869, -0.91668767, -1.54035103,\n",
       "        -1.02583358, -1.05960019],\n",
       "       [ 1.00150113, -0.57946723, -0.57638802, -0.85769482,  0.91324755,\n",
       "         0.19986603, -0.3483691 ,  0.7067467 , -0.91668767,  0.64920267,\n",
       "        -1.02583358,  1.09047006],\n",
       "       [ 1.00150113, -0.57946723, -0.57638802,  0.32536652, -1.09499335,\n",
       "         0.10479359, -1.38944225, -1.21847056,  0.80843615, -1.54035103,\n",
       "        -1.02583358, -0.42891681],\n",
       "       [ 1.00150113, -0.57946723, -0.57638802,  1.11407407, -1.09499335,\n",
       "         0.58015577,  1.03972843, -1.21847056,  0.80843615,  0.64920267,\n",
       "         0.97481699, -0.02051714],\n",
       "       [ 1.00150113, -0.57946723, -0.57638802, -2.34171036, -1.09499335,\n",
       "        -0.46564102, -0.69539349, -1.21847056,  0.80843615,  0.64920267,\n",
       "         0.97481699, -0.68156547],\n",
       "       [ 1.00150113, -0.57946723, -0.57638802, -0.52560743,  0.91324755,\n",
       "         3.33725643, -1.04241787, -1.21847056,  0.80843615, -1.54035103,\n",
       "         0.97481699, -0.84980324]])"
      ]
     },
     "execution_count": 7,
     "metadata": {},
     "output_type": "execute_result"
    }
   ],
   "source": [
    "sc = StandardScaler()\n",
    "X_train = sc.fit_transform(X_train)\n",
    "X_test = sc.fit_transform(X_test)\n",
    "X_train[:10]"
   ]
  },
  {
   "cell_type": "code",
   "execution_count": 8,
   "metadata": {
    "executionInfo": {
     "elapsed": 504,
     "status": "ok",
     "timestamp": 1655219745936,
     "user": {
      "displayName": "JUDE EZEH",
      "userId": "03936799648699512780"
     },
     "user_tz": -60
    },
    "id": "Ob8xQHQJpWkp"
   },
   "outputs": [],
   "source": [
    "import tensorflow as tf"
   ]
  },
  {
   "cell_type": "code",
   "execution_count": 11,
   "metadata": {
    "executionInfo": {
     "elapsed": 516,
     "status": "ok",
     "timestamp": 1655220018450,
     "user": {
      "displayName": "JUDE EZEH",
      "userId": "03936799648699512780"
     },
     "user_tz": -60
    },
    "id": "ZGC_8hpzzGWg"
   },
   "outputs": [],
   "source": [
    "model = tf.keras.models.Sequential()\n",
    "\n",
    "model.add(tf.keras.layers.Dense(units=6, activation='relu'))\n",
    "\n",
    "model.add(tf.keras.layers.Dense(units=6, activation='relu'))\n",
    "\n",
    "model.add(tf.keras.layers.Dense(units=1, activation='sigmoid'))\n",
    "\n",
    "\n",
    "model.compile(optimizer='adam',\n",
    "              loss='binary_crossentropy',\n",
    "              metrics=['accuracy'])"
   ]
  },
  {
   "cell_type": "code",
   "execution_count": 12,
   "metadata": {
    "colab": {
     "base_uri": "https://localhost:8080/"
    },
    "executionInfo": {
     "elapsed": 143462,
     "status": "ok",
     "timestamp": 1655220198386,
     "user": {
      "displayName": "JUDE EZEH",
      "userId": "03936799648699512780"
     },
     "user_tz": -60
    },
    "id": "swkSSddUzSdV",
    "outputId": "33b283e6-35fa-48ea-c9c7-ed757ba25c1b",
    "tags": []
   },
   "outputs": [
    {
     "name": "stdout",
     "output_type": "stream",
     "text": [
      "Epoch 1/100\n",
      "250/250 [==============================] - 13s 14ms/step - loss: 0.5816 - accuracy: 0.7314\n",
      "Epoch 2/100\n",
      "250/250 [==============================] - 4s 15ms/step - loss: 0.4928 - accuracy: 0.7945\n",
      "Epoch 3/100\n",
      "250/250 [==============================] - 4s 15ms/step - loss: 0.4684 - accuracy: 0.7945\n",
      "Epoch 4/100\n",
      "250/250 [==============================] - 2s 9ms/step - loss: 0.4513 - accuracy: 0.7945\n",
      "Epoch 5/100\n",
      "250/250 [==============================] - 2s 10ms/step - loss: 0.4371 - accuracy: 0.7962\n",
      "Epoch 6/100\n",
      "250/250 [==============================] - 5s 21ms/step - loss: 0.4262 - accuracy: 0.8102\n",
      "Epoch 7/100\n",
      "250/250 [==============================] - 4s 15ms/step - loss: 0.4173 - accuracy: 0.8202\n",
      "Epoch 8/100\n",
      "250/250 [==============================] - 5s 22ms/step - loss: 0.4094 - accuracy: 0.8226\n",
      "Epoch 9/100\n",
      "250/250 [==============================] - 3s 11ms/step - loss: 0.4015 - accuracy: 0.8240\n",
      "Epoch 10/100\n",
      "250/250 [==============================] - 3s 11ms/step - loss: 0.3928 - accuracy: 0.8299\n",
      "Epoch 11/100\n",
      "250/250 [==============================] - 3s 14ms/step - loss: 0.3851 - accuracy: 0.8346\n",
      "Epoch 12/100\n",
      "250/250 [==============================] - 2s 7ms/step - loss: 0.3775 - accuracy: 0.8413\n",
      "Epoch 13/100\n",
      "250/250 [==============================] - 2s 9ms/step - loss: 0.3718 - accuracy: 0.8468\n",
      "Epoch 14/100\n",
      "250/250 [==============================] - 3s 11ms/step - loss: 0.3679 - accuracy: 0.8454\n",
      "Epoch 15/100\n",
      "250/250 [==============================] - 3s 13ms/step - loss: 0.3639 - accuracy: 0.8501\n",
      "Epoch 16/100\n",
      "250/250 [==============================] - 3s 10ms/step - loss: 0.3616 - accuracy: 0.8508\n",
      "Epoch 17/100\n",
      "250/250 [==============================] - 3s 12ms/step - loss: 0.3588 - accuracy: 0.8518\n",
      "Epoch 18/100\n",
      "250/250 [==============================] - 3s 11ms/step - loss: 0.3566 - accuracy: 0.8518\n",
      "Epoch 19/100\n",
      "250/250 [==============================] - 3s 12ms/step - loss: 0.3543 - accuracy: 0.8546\n",
      "Epoch 20/100\n",
      "250/250 [==============================] - 2s 8ms/step - loss: 0.3523 - accuracy: 0.8555\n",
      "Epoch 21/100\n",
      "250/250 [==============================] - 2s 6ms/step - loss: 0.3512 - accuracy: 0.8564\n",
      "Epoch 22/100\n",
      "250/250 [==============================] - 2s 6ms/step - loss: 0.3499 - accuracy: 0.8565\n",
      "Epoch 23/100\n",
      "250/250 [==============================] - 3s 13ms/step - loss: 0.3484 - accuracy: 0.8571\n",
      "Epoch 24/100\n",
      "250/250 [==============================] - 2s 9ms/step - loss: 0.3476 - accuracy: 0.8575\n",
      "Epoch 25/100\n",
      "250/250 [==============================] - 4s 17ms/step - loss: 0.3466 - accuracy: 0.8561\n",
      "Epoch 26/100\n",
      "250/250 [==============================] - 2s 10ms/step - loss: 0.3451 - accuracy: 0.8580\n",
      "Epoch 27/100\n",
      "250/250 [==============================] - 4s 15ms/step - loss: 0.3450 - accuracy: 0.8579\n",
      "Epoch 28/100\n",
      "250/250 [==============================] - 3s 12ms/step - loss: 0.3442 - accuracy: 0.8574\n",
      "Epoch 29/100\n",
      "250/250 [==============================] - 4s 17ms/step - loss: 0.3432 - accuracy: 0.8586\n",
      "Epoch 30/100\n",
      "250/250 [==============================] - 2s 7ms/step - loss: 0.3423 - accuracy: 0.8600\n",
      "Epoch 31/100\n",
      "250/250 [==============================] - 3s 10ms/step - loss: 0.3416 - accuracy: 0.8599\n",
      "Epoch 32/100\n",
      "250/250 [==============================] - 3s 13ms/step - loss: 0.3416 - accuracy: 0.8590\n",
      "Epoch 33/100\n",
      "250/250 [==============================] - 3s 14ms/step - loss: 0.3405 - accuracy: 0.8591\n",
      "Epoch 34/100\n",
      "250/250 [==============================] - 2s 7ms/step - loss: 0.3401 - accuracy: 0.8589\n",
      "Epoch 35/100\n",
      "250/250 [==============================] - 2s 9ms/step - loss: 0.3401 - accuracy: 0.8610\n",
      "Epoch 36/100\n",
      "250/250 [==============================] - 3s 14ms/step - loss: 0.3394 - accuracy: 0.8612\n",
      "Epoch 37/100\n",
      "250/250 [==============================] - 4s 15ms/step - loss: 0.3389 - accuracy: 0.8604\n",
      "Epoch 38/100\n",
      "250/250 [==============================] - 4s 16ms/step - loss: 0.3387 - accuracy: 0.8597\n",
      "Epoch 39/100\n",
      "250/250 [==============================] - 2s 9ms/step - loss: 0.3380 - accuracy: 0.8602\n",
      "Epoch 40/100\n",
      "250/250 [==============================] - 2s 7ms/step - loss: 0.3383 - accuracy: 0.8620\n",
      "Epoch 41/100\n",
      "250/250 [==============================] - 4s 18ms/step - loss: 0.3373 - accuracy: 0.8601\n",
      "Epoch 42/100\n",
      "250/250 [==============================] - 2s 7ms/step - loss: 0.3375 - accuracy: 0.8629\n",
      "Epoch 43/100\n",
      "250/250 [==============================] - 3s 12ms/step - loss: 0.3374 - accuracy: 0.8606\n",
      "Epoch 44/100\n",
      "250/250 [==============================] - 2s 10ms/step - loss: 0.3371 - accuracy: 0.8614\n",
      "Epoch 45/100\n",
      "250/250 [==============================] - 2s 9ms/step - loss: 0.3365 - accuracy: 0.8618\n",
      "Epoch 46/100\n",
      "250/250 [==============================] - 3s 13ms/step - loss: 0.3366 - accuracy: 0.8618\n",
      "Epoch 47/100\n",
      "250/250 [==============================] - 3s 12ms/step - loss: 0.3360 - accuracy: 0.8618\n",
      "Epoch 48/100\n",
      "250/250 [==============================] - 5s 18ms/step - loss: 0.3354 - accuracy: 0.8620\n",
      "Epoch 49/100\n",
      "250/250 [==============================] - 4s 14ms/step - loss: 0.3355 - accuracy: 0.8625\n",
      "Epoch 50/100\n",
      "250/250 [==============================] - 2s 6ms/step - loss: 0.3358 - accuracy: 0.8611\n",
      "Epoch 51/100\n",
      "250/250 [==============================] - 4s 16ms/step - loss: 0.3355 - accuracy: 0.8637\n",
      "Epoch 52/100\n",
      "250/250 [==============================] - 4s 15ms/step - loss: 0.3351 - accuracy: 0.8618\n",
      "Epoch 53/100\n",
      "250/250 [==============================] - 3s 13ms/step - loss: 0.3355 - accuracy: 0.8631\n",
      "Epoch 54/100\n",
      "250/250 [==============================] - 1s 5ms/step - loss: 0.3351 - accuracy: 0.8629\n",
      "Epoch 55/100\n",
      "250/250 [==============================] - 2s 8ms/step - loss: 0.3349 - accuracy: 0.8631\n",
      "Epoch 56/100\n",
      "250/250 [==============================] - 2s 8ms/step - loss: 0.3353 - accuracy: 0.8634\n",
      "Epoch 57/100\n",
      "250/250 [==============================] - 2s 9ms/step - loss: 0.3348 - accuracy: 0.8624\n",
      "Epoch 58/100\n",
      "250/250 [==============================] - 2s 9ms/step - loss: 0.3342 - accuracy: 0.8633\n",
      "Epoch 59/100\n",
      "250/250 [==============================] - 2s 10ms/step - loss: 0.3344 - accuracy: 0.8630\n",
      "Epoch 60/100\n",
      "250/250 [==============================] - 2s 8ms/step - loss: 0.3338 - accuracy: 0.8629\n",
      "Epoch 61/100\n",
      "250/250 [==============================] - 3s 10ms/step - loss: 0.3348 - accuracy: 0.8645\n",
      "Epoch 62/100\n",
      "250/250 [==============================] - 3s 11ms/step - loss: 0.3344 - accuracy: 0.8635\n",
      "Epoch 63/100\n",
      "250/250 [==============================] - 2s 8ms/step - loss: 0.3343 - accuracy: 0.8641\n",
      "Epoch 64/100\n",
      "250/250 [==============================] - 3s 11ms/step - loss: 0.3344 - accuracy: 0.8619\n",
      "Epoch 65/100\n",
      "250/250 [==============================] - 3s 11ms/step - loss: 0.3340 - accuracy: 0.8627\n",
      "Epoch 66/100\n",
      "250/250 [==============================] - 3s 11ms/step - loss: 0.3345 - accuracy: 0.8608\n",
      "Epoch 67/100\n",
      "250/250 [==============================] - 2s 10ms/step - loss: 0.3337 - accuracy: 0.8616\n",
      "Epoch 68/100\n",
      "250/250 [==============================] - 2s 9ms/step - loss: 0.3340 - accuracy: 0.8627\n",
      "Epoch 69/100\n",
      "250/250 [==============================] - 3s 10ms/step - loss: 0.3335 - accuracy: 0.8611\n",
      "Epoch 70/100\n",
      "250/250 [==============================] - 2s 9ms/step - loss: 0.3333 - accuracy: 0.8620\n",
      "Epoch 71/100\n",
      "250/250 [==============================] - 2s 8ms/step - loss: 0.3333 - accuracy: 0.8626\n",
      "Epoch 72/100\n",
      "250/250 [==============================] - 2s 6ms/step - loss: 0.3335 - accuracy: 0.8643\n",
      "Epoch 73/100\n",
      "250/250 [==============================] - 3s 11ms/step - loss: 0.3336 - accuracy: 0.8618\n",
      "Epoch 74/100\n",
      "250/250 [==============================] - 2s 8ms/step - loss: 0.3331 - accuracy: 0.8635\n",
      "Epoch 75/100\n",
      "250/250 [==============================] - 2s 7ms/step - loss: 0.3330 - accuracy: 0.8624\n",
      "Epoch 76/100\n",
      "250/250 [==============================] - 2s 9ms/step - loss: 0.3333 - accuracy: 0.8643\n",
      "Epoch 77/100\n",
      "250/250 [==============================] - 2s 7ms/step - loss: 0.3331 - accuracy: 0.8640\n",
      "Epoch 78/100\n",
      "250/250 [==============================] - 2s 9ms/step - loss: 0.3329 - accuracy: 0.8631\n",
      "Epoch 79/100\n",
      "250/250 [==============================] - 2s 9ms/step - loss: 0.3333 - accuracy: 0.8626\n",
      "Epoch 80/100\n",
      "250/250 [==============================] - 3s 11ms/step - loss: 0.3329 - accuracy: 0.8634\n",
      "Epoch 81/100\n",
      "250/250 [==============================] - 2s 7ms/step - loss: 0.3328 - accuracy: 0.8652\n",
      "Epoch 82/100\n",
      "250/250 [==============================] - 3s 11ms/step - loss: 0.3326 - accuracy: 0.8626\n",
      "Epoch 83/100\n",
      "250/250 [==============================] - 2s 8ms/step - loss: 0.3324 - accuracy: 0.8635\n",
      "Epoch 84/100\n",
      "250/250 [==============================] - 2s 7ms/step - loss: 0.3325 - accuracy: 0.8631\n",
      "Epoch 85/100\n",
      "250/250 [==============================] - 2s 7ms/step - loss: 0.3326 - accuracy: 0.8618\n",
      "Epoch 86/100\n",
      "250/250 [==============================] - 2s 7ms/step - loss: 0.3321 - accuracy: 0.8641\n",
      "Epoch 87/100\n",
      "250/250 [==============================] - 4s 15ms/step - loss: 0.3323 - accuracy: 0.8610\n",
      "Epoch 88/100\n",
      "250/250 [==============================] - 2s 9ms/step - loss: 0.3323 - accuracy: 0.8636\n",
      "Epoch 89/100\n",
      "250/250 [==============================] - 2s 6ms/step - loss: 0.3325 - accuracy: 0.8620\n",
      "Epoch 90/100\n",
      "250/250 [==============================] - 3s 11ms/step - loss: 0.3322 - accuracy: 0.8616\n",
      "Epoch 91/100\n",
      "250/250 [==============================] - 2s 7ms/step - loss: 0.3318 - accuracy: 0.8636\n",
      "Epoch 92/100\n",
      "250/250 [==============================] - 2s 8ms/step - loss: 0.3321 - accuracy: 0.8621\n",
      "Epoch 93/100\n",
      "250/250 [==============================] - 2s 7ms/step - loss: 0.3324 - accuracy: 0.8620\n",
      "Epoch 94/100\n",
      "250/250 [==============================] - 3s 14ms/step - loss: 0.3317 - accuracy: 0.8625\n",
      "Epoch 95/100\n",
      "250/250 [==============================] - 2s 7ms/step - loss: 0.3319 - accuracy: 0.8621\n",
      "Epoch 96/100\n",
      "250/250 [==============================] - 3s 11ms/step - loss: 0.3317 - accuracy: 0.8625\n",
      "Epoch 97/100\n",
      "250/250 [==============================] - 3s 11ms/step - loss: 0.3318 - accuracy: 0.8631\n",
      "Epoch 98/100\n",
      "250/250 [==============================] - 3s 10ms/step - loss: 0.3316 - accuracy: 0.8633\n",
      "Epoch 99/100\n",
      "250/250 [==============================] - 2s 9ms/step - loss: 0.3312 - accuracy: 0.8622\n",
      "Epoch 100/100\n",
      "250/250 [==============================] - 2s 7ms/step - loss: 0.3312 - accuracy: 0.8643\n"
     ]
    }
   ],
   "source": [
    "history = model.fit(X_train, y_train, batch_size = 32, epochs = 100)"
   ]
  },
  {
   "cell_type": "code",
   "execution_count": 15,
   "metadata": {},
   "outputs": [],
   "source": [
    "loss = history.history[\"loss\"]\n",
    "acc = history.history[\"accuracy\"]"
   ]
  },
  {
   "cell_type": "code",
   "execution_count": 22,
   "metadata": {},
   "outputs": [
    {
     "data": {
      "image/png": "[encoded data removed]",
      "text/plain": [
       "<Figure size 720x504 with 1 Axes>"
      ]
     },
     "metadata": {},
     "output_type": "display_data"
    }
   ],
   "source": [
    "plt.figure(figsize=(10,7))\n",
    "plt.plot(loss, \"r--\", label=\"Loss\")\n",
    "plt.plot(acc, \"g--\", label=\"Accuracy\")\n",
    "plt.title(\"loss accuracy plot\".upper(), size=20, weight=\"bold\")\n",
    "plt.xlabel(\"Epoch\")\n",
    "plt.legend();\n",
    "plt.savefig(\"loss accuracy plot.png\", bbox_inches=\"tight\", format=\"png\")"
   ]
  },
  {
   "cell_type": "code",
   "execution_count": 86,
   "metadata": {
    "colab": {
     "base_uri": "https://localhost:8080/"
    },
    "executionInfo": {
     "elapsed": 1429,
     "status": "ok",
     "timestamp": 1655220452762,
     "user": {
      "displayName": "JUDE EZEH",
      "userId": "03936799648699512780"
     },
     "user_tz": -60
    },
    "id": "KLaMhM53pWkr",
    "outputId": "b9f0328f-ec4b-445e-a5c1-2bf4c9227c25"
   },
   "outputs": [
    {
     "name": "stdout",
     "output_type": "stream",
     "text": [
      "63/63 [==============================] - 0s 6ms/step - loss: 0.3361 - accuracy: 0.8670\n",
      "0.8669999837875366\n"
     ]
    }
   ],
   "source": [
    "loss, accuracy = model.evaluate(X_test, y_test)\n",
    "print(accuracy)"
   ]
  },
  {
   "cell_type": "markdown",
   "metadata": {
    "id": "16UZBjeg1MJO"
   },
   "source": [
    "Making the prediction to determine if the customer stays or leave the bank. \n",
    "\n",
    "Use our ANN model to predict if the customer with the following informations will leave the bank:\n",
    "\n",
    "Geography: France\n",
    "\n",
    "Credit Score: 800\n",
    "\n",
    "Gender: Male\n",
    "\n",
    "Age: 40 years old\n",
    "\n",
    "Tenure: 6 years\n",
    "\n",
    "Balance: $ 650000\n",
    "\n",
    "Number of Products: 4\n",
    "\n",
    "Does this customer have a credit card? Yes\n",
    "\n",
    "Is this customer an Active Member: Yes\n",
    "\n",
    "Estimated Salary: $ 50000\n",
    "\n",
    "So, should we say goodbye to that customer?"
   ]
  },
  {
   "cell_type": "code",
   "execution_count": 89,
   "metadata": {
    "colab": {
     "base_uri": "https://localhost:8080/"
    },
    "executionInfo": {
     "elapsed": 505,
     "status": "ok",
     "timestamp": 1655220958963,
     "user": {
      "displayName": "JUDE EZEH",
      "userId": "03936799648699512780"
     },
     "user_tz": -60
    },
    "id": "6M5H_9XD0iva",
    "outputId": "47a0f4c4-ad95-4776-e8cd-27b63d4ac9f9"
   },
   "outputs": [
    {
     "name": "stdout",
     "output_type": "stream",
     "text": [
      "[[False]]\n"
     ]
    }
   ],
   "source": [
    "print(model.predict(sc.transform([[1, 0, 0, 800, 1, 40, 6, 650000, 4, 1, 1, 50000]]))>0.5)"
   ]
  },
  {
   "cell_type": "markdown",
   "metadata": {
    "id": "YZDNJw7f25T4"
   },
   "source": [
    "From, the above information provided, we are not expecting this customer to leave the bank."
   ]
  },
  {
   "cell_type": "code",
   "execution_count": 91,
   "metadata": {
    "colab": {
     "base_uri": "https://localhost:8080/"
    },
    "executionInfo": {
     "elapsed": 486,
     "status": "ok",
     "timestamp": 1655221400422,
     "user": {
      "displayName": "JUDE EZEH",
      "userId": "03936799648699512780"
     },
     "user_tz": -60
    },
    "id": "ZvktRqzR2scZ",
    "outputId": "e2f2d96d-9b5f-4601-b751-bbfb12205193"
   },
   "outputs": [
    {
     "name": "stdout",
     "output_type": "stream",
     "text": [
      "[[0 0]\n",
      " [0 0]\n",
      " [0 0]\n",
      " ...\n",
      " [1 1]\n",
      " [0 1]\n",
      " [0 1]]\n"
     ]
    }
   ],
   "source": [
    "#making the prediction variable\n",
    "y_pred = model.predict(X_test)\n",
    "y_pred = (y_pred > 0.5)\n",
    "print(np.concatenate((y_pred.reshape(len(y_pred),1), y_test.reshape(len(y_test),1)),1))"
   ]
  },
  {
   "cell_type": "markdown",
   "metadata": {
    "id": "dEu44BvH4r5b"
   },
   "source": [
    "Making the confusion matrix"
   ]
  },
  {
   "cell_type": "code",
   "execution_count": 92,
   "metadata": {
    "colab": {
     "base_uri": "https://localhost:8080/"
    },
    "executionInfo": {
     "elapsed": 19,
     "status": "ok",
     "timestamp": 1655221485514,
     "user": {
      "displayName": "JUDE EZEH",
      "userId": "03936799648699512780"
     },
     "user_tz": -60
    },
    "id": "cfBmXEO7307y",
    "outputId": "1fa103ff-36f2-4863-e370-2babae71484f"
   },
   "outputs": [
    {
     "name": "stdout",
     "output_type": "stream",
     "text": [
      "[[1554  213]\n",
      " [  53  180]]\n"
     ]
    }
   ],
   "source": [
    "from sklearn.metrics import confusion_matrix\n",
    "cm = confusion_matrix(y_pred, y_test)\n",
    "print(cm)"
   ]
  },
  {
   "cell_type": "code",
   "execution_count": 93,
   "metadata": {
    "colab": {
     "base_uri": "https://localhost:8080/",
     "height": 284
    },
    "executionInfo": {
     "elapsed": 1148,
     "status": "ok",
     "timestamp": 1655221590408,
     "user": {
      "displayName": "JUDE EZEH",
      "userId": "03936799648699512780"
     },
     "user_tz": -60
    },
    "id": "QV212oEw43hc",
    "outputId": "4a182e5a-14bd-48dc-d95c-db4756955f4a"
   },
   "outputs": [
    {
     "data": {
      "image/png": "[encoded data removed]",
      "text/plain": [
       "<Figure size 432x288 with 2 Axes>"
      ]
     },
     "metadata": {},
     "output_type": "display_data"
    }
   ],
   "source": [
    "plt.xlabel('Predicted')\n",
    "plt.ylabel('Truth')\n",
    "plt.title('Confusion Matrix', fontweight='bold')\n",
    "sns.heatmap(cm,\n",
    "            annot=True)\n",
    "plt.show()"
   ]
  },
  {
   "cell_type": "markdown",
   "metadata": {
    "id": "gtrJD18750yZ"
   },
   "source": [
    "### Save and Load the Model"
   ]
  },
  {
   "cell_type": "code",
   "execution_count": 95,
   "metadata": {
    "executionInfo": {
     "elapsed": 483,
     "status": "ok",
     "timestamp": 1655221843457,
     "user": {
      "displayName": "JUDE EZEH",
      "userId": "03936799648699512780"
     },
     "user_tz": -60
    },
    "id": "_peo3U4j5RFZ"
   },
   "outputs": [],
   "source": [
    "import pickle"
   ]
  },
  {
   "cell_type": "code",
   "execution_count": 96,
   "metadata": {
    "colab": {
     "base_uri": "https://localhost:8080/"
    },
    "executionInfo": {
     "elapsed": 1913,
     "status": "ok",
     "timestamp": 1655222461043,
     "user": {
      "displayName": "JUDE EZEH",
      "userId": "03936799648699512780"
     },
     "user_tz": -60
    },
    "id": "8AAnkjv46BiG",
    "outputId": "6c0c7e9e-4063-44f0-923a-92000a807425"
   },
   "outputs": [
    {
     "name": "stdout",
     "output_type": "stream",
     "text": [
      "INFO:tensorflow:Assets written to: ram://ef0a8a99-f597-4573-ac00-295810406e77/assets\n"
     ]
    }
   ],
   "source": [
    "with open('/content/drive/MyDrive/Customer_chun/Model/chun_model', 'wb') as f:\n",
    "  pickle.dump(model, f)"
   ]
  },
  {
   "cell_type": "code",
   "execution_count": 97,
   "metadata": {
    "executionInfo": {
     "elapsed": 1080,
     "status": "ok",
     "timestamp": 1655222618799,
     "user": {
      "displayName": "JUDE EZEH",
      "userId": "03936799648699512780"
     },
     "user_tz": -60
    },
    "id": "zXHmzbu58ldW"
   },
   "outputs": [],
   "source": [
    "with open('/content/drive/MyDrive/Customer_chun/Model/chun_model', 'rb') as f:\n",
    "  model = pickle.load(f)"
   ]
  },
  {
   "cell_type": "code",
   "execution_count": 99,
   "metadata": {
    "colab": {
     "base_uri": "https://localhost:8080/"
    },
    "executionInfo": {
     "elapsed": 6,
     "status": "ok",
     "timestamp": 1655222724362,
     "user": {
      "displayName": "JUDE EZEH",
      "userId": "03936799648699512780"
     },
     "user_tz": -60
    },
    "id": "-OA04nrs9MKr",
    "outputId": "04cb58b0-f89c-470b-e39e-e80c583a0c45"
   },
   "outputs": [
    {
     "name": "stdout",
     "output_type": "stream",
     "text": [
      "[[False]]\n"
     ]
    }
   ],
   "source": [
    "print(model.predict(sc.transform([[1,0, 0, 800, 1, 40, 6, 650000, 4, 1, 1, 50000]]))>0.5)"
   ]
  },
  {
   "cell_type": "markdown",
   "metadata": {
    "id": "GMo41bNF9oTn"
   },
   "source": [
    "Hence, our model is ready for deployment!!!"
   ]
  },
  {
   "cell_type": "code",
   "execution_count": null,
   "metadata": {
    "id": "mxivTuxI9dxf"
   },
   "outputs": [],
   "source": []
  }
 ],
 "metadata": {
  "colab": {
   "name": "Customer_Chun.ipynb",
   "provenance": []
  },
  "kernelspec": {
   "display_name": "python3.9",
   "language": "python",
   "name": "python3.9"
  },
  "language_info": {
   "codemirror_mode": {
    "name": "ipython",
    "version": 3
   },
   "file_extension": ".py",
   "mimetype": "text/x-python",
   "name": "python",
   "nbconvert_exporter": "python",
   "pygments_lexer": "ipython3",
   "version": "3.9.12"
  }
 },
 "nbformat": 4,
 "nbformat_minor": 4
}
